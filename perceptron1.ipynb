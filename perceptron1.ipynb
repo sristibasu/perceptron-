{
  "nbformat": 4,
  "nbformat_minor": 0,
  "metadata": {
    "colab": {
      "name": "perceptron1.ipynb",
      "version": "0.3.2",
      "provenance": []
    },
    "kernelspec": {
      "name": "python3",
      "display_name": "Python 3"
    }
  },
  "cells": [
    {
      "metadata": {
        "id": "bJN-SxjAu2bf",
        "colab_type": "code",
        "colab": {
          "base_uri": "https://localhost:8080/",
          "height": 283
        },
        "outputId": "dd66d82a-9d9b-4e2b-bef0-c3052b2c1972"
      },
      "cell_type": "code",
      "source": [
        "#import packages\n",
        "import sklearn.datasets\n",
        "import numpy as np\n",
        "import pandas as pd\n",
        "import matplotlib.pyplot as plt\n",
        "from sklearn.model_selection import train_test_split\n",
        "\n",
        "#load the breast cancer data\n",
        "breast_cancer = sklearn.datasets.load_breast_cancer()\n",
        "\n",
        "#convert the data to pandas dataframe.\n",
        "data = pd.DataFrame(breast_cancer.data, columns = breast_cancer.feature_names)\n",
        "data[\"class\"] = breast_cancer.target\n",
        "data.head()\n",
        "data.describe()\n",
        "\n",
        "#plotting a graph to see class imbalance\n",
        "data['class'].value_counts().plot(kind = \"barh\")\n",
        "plt.xlabel(\"Count\")\n",
        "plt.ylabel(\"Classes\")\n",
        "plt.show()\n",
        "\n",
        "from sklearn.preprocessing import MinMaxScaler\n",
        "#perform scaling on the data.\n",
        "X = data.drop(\"class\", axis = 1)\n",
        "Y = data[\"class\"]\n",
        "mnscaler = MinMaxScaler()\n",
        "X = mnscaler.fit_transform(X)\n",
        "X = pd.DataFrame(X, columns=data.drop(\"class\",axis = 1).columns)\n",
        "\n",
        "#train test split.\n",
        "X_train, X_test, Y_train, Y_test = train_test_split(X,Y, test_size = 0.1, stratify = Y, random_state = 1)"
      ],
      "execution_count": 1,
      "outputs": [
        {
          "output_type": "display_data",
          "data": {
            "image/png": "[encoded data removed]",
            "text/plain": [
              "<Figure size 432x288 with 1 Axes>"
            ]
          },
          "metadata": {
            "tags": []
          }
        }
      ]
    }
  ]
}